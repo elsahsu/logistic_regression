{
  "cells": [
    {
      "cell_type": "code",
      "execution_count": 261,
      "metadata": {
        "id": "gLFQFMueLlKu"
      },
      "outputs": [],
      "source": [
        "# Prob 1\n",
        "# raw data: OscarsDemo.csv\n",
        "# (X): OscarNominations = 1,2,3,...\n",
        "# (Y): Winner = 0 (did not win) or 1 (won)"
      ]
    },
    {
      "cell_type": "code",
      "source": [
        "# Prob 2\n",
        "# raw data: LuxuryClothes.csv\n",
        "# (X): Spending (x1), Card (x2) \n",
        "# (Y): Coupon"
      ],
      "metadata": {
        "id": "N7iEkRd4hQhe"
      },
      "execution_count": 260,
      "outputs": []
    },
    {
      "cell_type": "code",
      "execution_count": 259,
      "metadata": {
        "id": "gDLEeq8ZLlKz"
      },
      "outputs": [],
      "source": [
        "import pandas as pd\n",
        "import numpy as np"
      ]
    },
    {
      "cell_type": "code",
      "execution_count": 258,
      "metadata": {
        "id": "WEao-hwHLlK0"
      },
      "outputs": [],
      "source": [
        "oscar_df = pd.read_csv('OscarsDemo.csv')"
      ]
    },
    {
      "cell_type": "code",
      "execution_count": 257,
      "metadata": {
        "colab": {
          "base_uri": "https://localhost:8080/",
          "height": 206
        },
        "id": "O6yzz_LNLlK1",
        "outputId": "415948b4-6f0c-46fa-ea41-cf8eba502c03"
      },
      "outputs": [
        {
          "output_type": "execute_result",
          "data": {
            "text/plain": [
              "   Year                Title  OscarNominations  Winner\n",
              "0  1984    A Soldier's Story                 3       0\n",
              "1  1984  Places in the Heart                 7       0\n",
              "2  1984   The Killing Fields                 7       0\n",
              "3  1984   A Passage to India                11       0\n",
              "4  1984              Amadeus                11       1"
            ],
            "text/html": [
              "\n",
              "  <div id=\"df-3c0d30b4-f0bd-44bc-b4b6-fe21c4a06f87\">\n",
              "    <div class=\"colab-df-container\">\n",
              "      <div>\n",
              "<style scoped>\n",
              "    .dataframe tbody tr th:only-of-type {\n",
              "        vertical-align: middle;\n",
              "    }\n",
              "\n",
              "    .dataframe tbody tr th {\n",
              "        vertical-align: top;\n",
              "    }\n",
              "\n",
              "    .dataframe thead th {\n",
              "        text-align: right;\n",
              "    }\n",
              "</style>\n",
              "<table border=\"1\" class=\"dataframe\">\n",
              "  <thead>\n",
              "    <tr style=\"text-align: right;\">\n",
              "      <th></th>\n",
              "      <th>Year</th>\n",
              "      <th>Title</th>\n",
              "      <th>OscarNominations</th>\n",
              "      <th>Winner</th>\n",
              "    </tr>\n",
              "  </thead>\n",
              "  <tbody>\n",
              "    <tr>\n",
              "      <th>0</th>\n",
              "      <td>1984</td>\n",
              "      <td>A Soldier's Story</td>\n",
              "      <td>3</td>\n",
              "      <td>0</td>\n",
              "    </tr>\n",
              "    <tr>\n",
              "      <th>1</th>\n",
              "      <td>1984</td>\n",
              "      <td>Places in the Heart</td>\n",
              "      <td>7</td>\n",
              "      <td>0</td>\n",
              "    </tr>\n",
              "    <tr>\n",
              "      <th>2</th>\n",
              "      <td>1984</td>\n",
              "      <td>The Killing Fields</td>\n",
              "      <td>7</td>\n",
              "      <td>0</td>\n",
              "    </tr>\n",
              "    <tr>\n",
              "      <th>3</th>\n",
              "      <td>1984</td>\n",
              "      <td>A Passage to India</td>\n",
              "      <td>11</td>\n",
              "      <td>0</td>\n",
              "    </tr>\n",
              "    <tr>\n",
              "      <th>4</th>\n",
              "      <td>1984</td>\n",
              "      <td>Amadeus</td>\n",
              "      <td>11</td>\n",
              "      <td>1</td>\n",
              "    </tr>\n",
              "  </tbody>\n",
              "</table>\n",
              "</div>\n",
              "      <button class=\"colab-df-convert\" onclick=\"convertToInteractive('df-3c0d30b4-f0bd-44bc-b4b6-fe21c4a06f87')\"\n",
              "              title=\"Convert this dataframe to an interactive table.\"\n",
              "              style=\"display:none;\">\n",
              "        \n",
              "  <svg xmlns=\"http://www.w3.org/2000/svg\" height=\"24px\"viewBox=\"0 0 24 24\"\n",
              "       width=\"24px\">\n",
              "    <path d=\"M0 0h24v24H0V0z\" fill=\"none\"/>\n",
              "    <path d=\"M18.56 5.44l.94 2.06.94-2.06 2.06-.94-2.06-.94-.94-2.06-.94 2.06-2.06.94zm-11 1L8.5 8.5l.94-2.06 2.06-.94-2.06-.94L8.5 2.5l-.94 2.06-2.06.94zm10 10l.94 2.06.94-2.06 2.06-.94-2.06-.94-.94-2.06-.94 2.06-2.06.94z\"/><path d=\"M17.41 7.96l-1.37-1.37c-.4-.4-.92-.59-1.43-.59-.52 0-1.04.2-1.43.59L10.3 9.45l-7.72 7.72c-.78.78-.78 2.05 0 2.83L4 21.41c.39.39.9.59 1.41.59.51 0 1.02-.2 1.41-.59l7.78-7.78 2.81-2.81c.8-.78.8-2.07 0-2.86zM5.41 20L4 18.59l7.72-7.72 1.47 1.35L5.41 20z\"/>\n",
              "  </svg>\n",
              "      </button>\n",
              "      \n",
              "  <style>\n",
              "    .colab-df-container {\n",
              "      display:flex;\n",
              "      flex-wrap:wrap;\n",
              "      gap: 12px;\n",
              "    }\n",
              "\n",
              "    .colab-df-convert {\n",
              "      background-color: #E8F0FE;\n",
              "      border: none;\n",
              "      border-radius: 50%;\n",
              "      cursor: pointer;\n",
              "      display: none;\n",
              "      fill: #1967D2;\n",
              "      height: 32px;\n",
              "      padding: 0 0 0 0;\n",
              "      width: 32px;\n",
              "    }\n",
              "\n",
              "    .colab-df-convert:hover {\n",
              "      background-color: #E2EBFA;\n",
              "      box-shadow: 0px 1px 2px rgba(60, 64, 67, 0.3), 0px 1px 3px 1px rgba(60, 64, 67, 0.15);\n",
              "      fill: #174EA6;\n",
              "    }\n",
              "\n",
              "    [theme=dark] .colab-df-convert {\n",
              "      background-color: #3B4455;\n",
              "      fill: #D2E3FC;\n",
              "    }\n",
              "\n",
              "    [theme=dark] .colab-df-convert:hover {\n",
              "      background-color: #434B5C;\n",
              "      box-shadow: 0px 1px 3px 1px rgba(0, 0, 0, 0.15);\n",
              "      filter: drop-shadow(0px 1px 2px rgba(0, 0, 0, 0.3));\n",
              "      fill: #FFFFFF;\n",
              "    }\n",
              "  </style>\n",
              "\n",
              "      <script>\n",
              "        const buttonEl =\n",
              "          document.querySelector('#df-3c0d30b4-f0bd-44bc-b4b6-fe21c4a06f87 button.colab-df-convert');\n",
              "        buttonEl.style.display =\n",
              "          google.colab.kernel.accessAllowed ? 'block' : 'none';\n",
              "\n",
              "        async function convertToInteractive(key) {\n",
              "          const element = document.querySelector('#df-3c0d30b4-f0bd-44bc-b4b6-fe21c4a06f87');\n",
              "          const dataTable =\n",
              "            await google.colab.kernel.invokeFunction('convertToInteractive',\n",
              "                                                     [key], {});\n",
              "          if (!dataTable) return;\n",
              "\n",
              "          const docLinkHtml = 'Like what you see? Visit the ' +\n",
              "            '<a target=\"_blank\" href=https://colab.research.google.com/notebooks/data_table.ipynb>data table notebook</a>'\n",
              "            + ' to learn more about interactive tables.';\n",
              "          element.innerHTML = '';\n",
              "          dataTable['output_type'] = 'display_data';\n",
              "          await google.colab.output.renderOutput(dataTable, element);\n",
              "          const docLink = document.createElement('div');\n",
              "          docLink.innerHTML = docLinkHtml;\n",
              "          element.appendChild(docLink);\n",
              "        }\n",
              "      </script>\n",
              "    </div>\n",
              "  </div>\n",
              "  "
            ]
          },
          "metadata": {},
          "execution_count": 257
        }
      ],
      "source": [
        "oscar_df.head()                            #Prob 1: viewing file \"OscarDemo.csv\""
      ]
    },
    {
      "cell_type": "code",
      "execution_count": 256,
      "metadata": {
        "colab": {
          "base_uri": "https://localhost:8080/"
        },
        "id": "s5L-NhqdLlK3",
        "outputId": "dd9cbad6-1777-408c-bf27-88a163dcfb7f"
      },
      "outputs": [
        {
          "output_type": "stream",
          "name": "stdout",
          "text": [
            "<class 'pandas.core.frame.DataFrame'>\n",
            "RangeIndex: 120 entries, 0 to 119\n",
            "Data columns (total 4 columns):\n",
            " #   Column            Non-Null Count  Dtype \n",
            "---  ------            --------------  ----- \n",
            " 0   Year              120 non-null    int64 \n",
            " 1   Title             120 non-null    object\n",
            " 2   OscarNominations  120 non-null    int64 \n",
            " 3   Winner            120 non-null    int64 \n",
            "dtypes: int64(3), object(1)\n",
            "memory usage: 3.9+ KB\n"
          ]
        }
      ],
      "source": [
        "oscar_df.info()                             #Prob 1: viewing file \"OscarDemo.csv\""
      ]
    },
    {
      "cell_type": "code",
      "source": [
        "LuxClo_df = pd.read_csv('LuxuryClothes.csv')\n",
        "LuxClo_df.head()                               #Prob 2: viewing file \"LuxuryClothes.csv\""
      ],
      "metadata": {
        "colab": {
          "base_uri": "https://localhost:8080/",
          "height": 206
        },
        "id": "bsUWaF7Mf9cQ",
        "outputId": "ba5e144f-5b43-4f55-ae4b-e36797e81e6d"
      },
      "execution_count": 255,
      "outputs": [
        {
          "output_type": "execute_result",
          "data": {
            "text/plain": [
              "   Customer  Spending  Card  Coupon Partition\n",
              "0         1      2291     1       0         t\n",
              "1         5      2528     1       0         t\n",
              "2         8      7076     0       0         t\n",
              "3        15      6737     0       0         t\n",
              "4        18      3470     1       0         t"
            ],
            "text/html": [
              "\n",
              "  <div id=\"df-5f55a4b5-4ef0-4f4d-9f2a-9bc53f445b18\">\n",
              "    <div class=\"colab-df-container\">\n",
              "      <div>\n",
              "<style scoped>\n",
              "    .dataframe tbody tr th:only-of-type {\n",
              "        vertical-align: middle;\n",
              "    }\n",
              "\n",
              "    .dataframe tbody tr th {\n",
              "        vertical-align: top;\n",
              "    }\n",
              "\n",
              "    .dataframe thead th {\n",
              "        text-align: right;\n",
              "    }\n",
              "</style>\n",
              "<table border=\"1\" class=\"dataframe\">\n",
              "  <thead>\n",
              "    <tr style=\"text-align: right;\">\n",
              "      <th></th>\n",
              "      <th>Customer</th>\n",
              "      <th>Spending</th>\n",
              "      <th>Card</th>\n",
              "      <th>Coupon</th>\n",
              "      <th>Partition</th>\n",
              "    </tr>\n",
              "  </thead>\n",
              "  <tbody>\n",
              "    <tr>\n",
              "      <th>0</th>\n",
              "      <td>1</td>\n",
              "      <td>2291</td>\n",
              "      <td>1</td>\n",
              "      <td>0</td>\n",
              "      <td>t</td>\n",
              "    </tr>\n",
              "    <tr>\n",
              "      <th>1</th>\n",
              "      <td>5</td>\n",
              "      <td>2528</td>\n",
              "      <td>1</td>\n",
              "      <td>0</td>\n",
              "      <td>t</td>\n",
              "    </tr>\n",
              "    <tr>\n",
              "      <th>2</th>\n",
              "      <td>8</td>\n",
              "      <td>7076</td>\n",
              "      <td>0</td>\n",
              "      <td>0</td>\n",
              "      <td>t</td>\n",
              "    </tr>\n",
              "    <tr>\n",
              "      <th>3</th>\n",
              "      <td>15</td>\n",
              "      <td>6737</td>\n",
              "      <td>0</td>\n",
              "      <td>0</td>\n",
              "      <td>t</td>\n",
              "    </tr>\n",
              "    <tr>\n",
              "      <th>4</th>\n",
              "      <td>18</td>\n",
              "      <td>3470</td>\n",
              "      <td>1</td>\n",
              "      <td>0</td>\n",
              "      <td>t</td>\n",
              "    </tr>\n",
              "  </tbody>\n",
              "</table>\n",
              "</div>\n",
              "      <button class=\"colab-df-convert\" onclick=\"convertToInteractive('df-5f55a4b5-4ef0-4f4d-9f2a-9bc53f445b18')\"\n",
              "              title=\"Convert this dataframe to an interactive table.\"\n",
              "              style=\"display:none;\">\n",
              "        \n",
              "  <svg xmlns=\"http://www.w3.org/2000/svg\" height=\"24px\"viewBox=\"0 0 24 24\"\n",
              "       width=\"24px\">\n",
              "    <path d=\"M0 0h24v24H0V0z\" fill=\"none\"/>\n",
              "    <path d=\"M18.56 5.44l.94 2.06.94-2.06 2.06-.94-2.06-.94-.94-2.06-.94 2.06-2.06.94zm-11 1L8.5 8.5l.94-2.06 2.06-.94-2.06-.94L8.5 2.5l-.94 2.06-2.06.94zm10 10l.94 2.06.94-2.06 2.06-.94-2.06-.94-.94-2.06-.94 2.06-2.06.94z\"/><path d=\"M17.41 7.96l-1.37-1.37c-.4-.4-.92-.59-1.43-.59-.52 0-1.04.2-1.43.59L10.3 9.45l-7.72 7.72c-.78.78-.78 2.05 0 2.83L4 21.41c.39.39.9.59 1.41.59.51 0 1.02-.2 1.41-.59l7.78-7.78 2.81-2.81c.8-.78.8-2.07 0-2.86zM5.41 20L4 18.59l7.72-7.72 1.47 1.35L5.41 20z\"/>\n",
              "  </svg>\n",
              "      </button>\n",
              "      \n",
              "  <style>\n",
              "    .colab-df-container {\n",
              "      display:flex;\n",
              "      flex-wrap:wrap;\n",
              "      gap: 12px;\n",
              "    }\n",
              "\n",
              "    .colab-df-convert {\n",
              "      background-color: #E8F0FE;\n",
              "      border: none;\n",
              "      border-radius: 50%;\n",
              "      cursor: pointer;\n",
              "      display: none;\n",
              "      fill: #1967D2;\n",
              "      height: 32px;\n",
              "      padding: 0 0 0 0;\n",
              "      width: 32px;\n",
              "    }\n",
              "\n",
              "    .colab-df-convert:hover {\n",
              "      background-color: #E2EBFA;\n",
              "      box-shadow: 0px 1px 2px rgba(60, 64, 67, 0.3), 0px 1px 3px 1px rgba(60, 64, 67, 0.15);\n",
              "      fill: #174EA6;\n",
              "    }\n",
              "\n",
              "    [theme=dark] .colab-df-convert {\n",
              "      background-color: #3B4455;\n",
              "      fill: #D2E3FC;\n",
              "    }\n",
              "\n",
              "    [theme=dark] .colab-df-convert:hover {\n",
              "      background-color: #434B5C;\n",
              "      box-shadow: 0px 1px 3px 1px rgba(0, 0, 0, 0.15);\n",
              "      filter: drop-shadow(0px 1px 2px rgba(0, 0, 0, 0.3));\n",
              "      fill: #FFFFFF;\n",
              "    }\n",
              "  </style>\n",
              "\n",
              "      <script>\n",
              "        const buttonEl =\n",
              "          document.querySelector('#df-5f55a4b5-4ef0-4f4d-9f2a-9bc53f445b18 button.colab-df-convert');\n",
              "        buttonEl.style.display =\n",
              "          google.colab.kernel.accessAllowed ? 'block' : 'none';\n",
              "\n",
              "        async function convertToInteractive(key) {\n",
              "          const element = document.querySelector('#df-5f55a4b5-4ef0-4f4d-9f2a-9bc53f445b18');\n",
              "          const dataTable =\n",
              "            await google.colab.kernel.invokeFunction('convertToInteractive',\n",
              "                                                     [key], {});\n",
              "          if (!dataTable) return;\n",
              "\n",
              "          const docLinkHtml = 'Like what you see? Visit the ' +\n",
              "            '<a target=\"_blank\" href=https://colab.research.google.com/notebooks/data_table.ipynb>data table notebook</a>'\n",
              "            + ' to learn more about interactive tables.';\n",
              "          element.innerHTML = '';\n",
              "          dataTable['output_type'] = 'display_data';\n",
              "          await google.colab.output.renderOutput(dataTable, element);\n",
              "          const docLink = document.createElement('div');\n",
              "          docLink.innerHTML = docLinkHtml;\n",
              "          element.appendChild(docLink);\n",
              "        }\n",
              "      </script>\n",
              "    </div>\n",
              "  </div>\n",
              "  "
            ]
          },
          "metadata": {},
          "execution_count": 255
        }
      ]
    },
    {
      "cell_type": "code",
      "source": [
        "LuxClo_df.info()                                #Prob 2: viewing file \"LuxuryClothes.csv\""
      ],
      "metadata": {
        "colab": {
          "base_uri": "https://localhost:8080/"
        },
        "id": "RljyTfxzgloH",
        "outputId": "1ff6b48f-b516-4169-c539-d4b7a4ea5aae"
      },
      "execution_count": 254,
      "outputs": [
        {
          "output_type": "stream",
          "name": "stdout",
          "text": [
            "<class 'pandas.core.frame.DataFrame'>\n",
            "RangeIndex: 1000 entries, 0 to 999\n",
            "Data columns (total 5 columns):\n",
            " #   Column     Non-Null Count  Dtype \n",
            "---  ------     --------------  ----- \n",
            " 0   Customer   1000 non-null   int64 \n",
            " 1   Spending   1000 non-null   int64 \n",
            " 2   Card       1000 non-null   int64 \n",
            " 3   Coupon     1000 non-null   int64 \n",
            " 4   Partition  1000 non-null   object\n",
            "dtypes: int64(4), object(1)\n",
            "memory usage: 39.2+ KB\n"
          ]
        }
      ]
    },
    {
      "cell_type": "code",
      "execution_count": 253,
      "metadata": {
        "id": "CWYethKdLlK8"
      },
      "outputs": [],
      "source": [
        "y = oscar_df['Winner']                            #Prob 1: defining x & y\n",
        "x = oscar_df['OscarNominations']\n",
        "x = x.values\n",
        "x = x.reshape(-1,1)"
      ]
    },
    {
      "cell_type": "code",
      "source": [
        "\n",
        "p2_y = LuxClo_df['Coupon']                          #Prob 2: defining x & y\n",
        "p2_x = LuxClo_df[['Spending', 'Card']].values\n",
        "p2_x1 = LuxClo_df['Spending'].values.reshape(-1, 1)\n",
        "p2_x2 = LuxClo_df['Card'].values.reshape(-1, 1)\n"
      ],
      "metadata": {
        "id": "UCFpP7i4hiO3"
      },
      "execution_count": 252,
      "outputs": []
    },
    {
      "cell_type": "code",
      "execution_count": 251,
      "metadata": {
        "id": "tJ8jbGpMLlK-"
      },
      "outputs": [],
      "source": [
        "import matplotlib.pyplot as plt"
      ]
    },
    {
      "cell_type": "code",
      "execution_count": 250,
      "metadata": {
        "colab": {
          "base_uri": "https://localhost:8080/",
          "height": 282
        },
        "id": "zwh4UQHvLlK_",
        "outputId": "85b4fb34-cf6e-4fa9-994b-f3d51b838ffe"
      },
      "outputs": [
        {
          "output_type": "execute_result",
          "data": {
            "text/plain": [
              "<matplotlib.collections.PathCollection at 0x7f31703963d0>"
            ]
          },
          "metadata": {},
          "execution_count": 250
        },
        {
          "output_type": "display_data",
          "data": {
            "text/plain": [
              "<Figure size 432x288 with 1 Axes>"
            ],
            "image/png": "[encoded data removed]"
          },
          "metadata": {
            "needs_background": "light"
          }
        }
      ],
      "source": [
        "plt.scatter(x,y)                                  #Prob 1: draw scatter plot"
      ]
    },
    {
      "cell_type": "code",
      "source": [
        "plt.scatter(p2_x1, p2_x2, p2_y)                           #Prob 2: draw scatter plot"
      ],
      "metadata": {
        "colab": {
          "base_uri": "https://localhost:8080/",
          "height": 282
        },
        "id": "U6qW4zLlEUVS",
        "outputId": "94a0cab4-9ab5-4344-faf6-02b74597d0a3"
      },
      "execution_count": 249,
      "outputs": [
        {
          "output_type": "execute_result",
          "data": {
            "text/plain": [
              "<matplotlib.collections.PathCollection at 0x7f31703964d0>"
            ]
          },
          "metadata": {},
          "execution_count": 249
        },
        {
          "output_type": "display_data",
          "data": {
            "text/plain": [
              "<Figure size 432x288 with 1 Axes>"
            ],
            "image/png": "[encoded data removed]"
          },
          "metadata": {
            "needs_background": "light"
          }
        }
      ]
    },
    {
      "cell_type": "code",
      "execution_count": 248,
      "metadata": {
        "id": "xYtV_YI3LlLC"
      },
      "outputs": [],
      "source": [
        "from sklearn.linear_model import LogisticRegression\n",
        "from sklearn.model_selection import train_test_split"
      ]
    },
    {
      "cell_type": "code",
      "source": [
        "# Split data into training set (75 % of the data) and a test (validation) set (remaining 25 %)\n",
        "train_x, test_x, train_y, test_y = train_test_split(x, y, test_size=0.25, random_state=0)"
      ],
      "metadata": {
        "id": "fEWkTm2ZMi_J"
      },
      "execution_count": 247,
      "outputs": []
    },
    {
      "cell_type": "code",
      "source": [
        "train_i_x, test_i_x, train_i_y, test_i_y = train_test_split(x, y, test_size=0.5, random_state=0) #Prob 1/Experiment i: 50 % training data – 50 % test data"
      ],
      "metadata": {
        "id": "e6KhERHMdc9J"
      },
      "execution_count": 246,
      "outputs": []
    },
    {
      "cell_type": "code",
      "source": [
        "train_ii_x, test_ii_x, train_ii_y, test_ii_y = train_test_split(x, y, test_size=0.2, random_state=0) #Prob 1/Experiment ii: 80 % training data – 20 % test data"
      ],
      "metadata": {
        "id": "3uIXvBIBAgYE"
      },
      "execution_count": 245,
      "outputs": []
    },
    {
      "cell_type": "code",
      "source": [
        "train_iii_x, test_iii_x, train_iii_y, test_iii_y = train_test_split(x, y, test_size=0.1, random_state=0) #Prob 1/Experiment iii: 90 % training data – 10 % test data"
      ],
      "metadata": {
        "id": "-Ol-DZkCF4E8"
      },
      "execution_count": 244,
      "outputs": []
    },
    {
      "cell_type": "code",
      "source": [
        "p2_s1_train_x, p2_s1_test_x, p2_s1_train_y, p2_s1_test_y = train_test_split(p2_x, p2_y, test_size=0.15, random_state=0) #Prob 2/Scenario 1: Set 85% training data - 15% test data "
      ],
      "metadata": {
        "id": "heftffTwJprn"
      },
      "execution_count": 243,
      "outputs": []
    },
    {
      "cell_type": "code",
      "source": [
        "p2_s2_train_x, p2_s2_test_x, p2_s2_train_y, p2_s2_test_y = train_test_split(p2_x, p2_y, test_size=0.21, random_state=0)  #Prob 2/Scenario 2: Set 79% training data - 21% test data "
      ],
      "metadata": {
        "id": "T2Ceh13RF5H0"
      },
      "execution_count": 242,
      "outputs": []
    },
    {
      "cell_type": "code",
      "source": [
        "model = LogisticRegression()\n",
        "model.fit(train_x, train_y)                   #Prob 1/pre-set: fitting the model given X and y values"
      ],
      "metadata": {
        "id": "rKc68SOlPaMY",
        "colab": {
          "base_uri": "https://localhost:8080/"
        },
        "outputId": "659ba9b5-23dd-4a88-b105-1964f1ce3219"
      },
      "execution_count": 241,
      "outputs": [
        {
          "output_type": "execute_result",
          "data": {
            "text/plain": [
              "LogisticRegression()"
            ]
          },
          "metadata": {},
          "execution_count": 241
        }
      ]
    },
    {
      "cell_type": "code",
      "source": [
        "model_i = LogisticRegression()\n",
        "model_i.fit(train_i_x, train_i_y)               #Prob 1/Experiment i: fitting the model i given X and y values"
      ],
      "metadata": {
        "colab": {
          "base_uri": "https://localhost:8080/"
        },
        "id": "iqPBGQ1PeBRb",
        "outputId": "ee67f4fd-c5a0-4106-d8c4-68736944448b"
      },
      "execution_count": 240,
      "outputs": [
        {
          "output_type": "execute_result",
          "data": {
            "text/plain": [
              "LogisticRegression()"
            ]
          },
          "metadata": {},
          "execution_count": 240
        }
      ]
    },
    {
      "cell_type": "code",
      "source": [
        "model_ii = LogisticRegression()\n",
        "model_ii.fit(train_ii_x, train_ii_y)            #Prob 1/Experiment ii: fitting the model ii given X and y values"
      ],
      "metadata": {
        "colab": {
          "base_uri": "https://localhost:8080/"
        },
        "id": "i-uy5uEUA4Bx",
        "outputId": "65be9a09-360d-4653-d00a-b33660e57271"
      },
      "execution_count": 239,
      "outputs": [
        {
          "output_type": "execute_result",
          "data": {
            "text/plain": [
              "LogisticRegression()"
            ]
          },
          "metadata": {},
          "execution_count": 239
        }
      ]
    },
    {
      "cell_type": "code",
      "source": [
        "model_iii = LogisticRegression()\n",
        "model_iii.fit(train_iii_x, train_iii_y)         #Prob 1/Experiment iii: fitting the model iii given X and y values"
      ],
      "metadata": {
        "colab": {
          "base_uri": "https://localhost:8080/"
        },
        "id": "lfkGc2tLGFgm",
        "outputId": "75f24499-9873-45bb-d791-aea3b7b1bc73"
      },
      "execution_count": 238,
      "outputs": [
        {
          "output_type": "execute_result",
          "data": {
            "text/plain": [
              "LogisticRegression()"
            ]
          },
          "metadata": {},
          "execution_count": 238
        }
      ]
    },
    {
      "cell_type": "code",
      "source": [
        "p2_s1_model = LogisticRegression()\n",
        "p2_s1_model.fit(p2_s1_train_x, p2_s1_train_y)   #Prob 2/Scenario 1: fitting the s1 model given X and y values"
      ],
      "metadata": {
        "colab": {
          "base_uri": "https://localhost:8080/"
        },
        "id": "UHmwMs1yHxRL",
        "outputId": "3f0b3ba0-b79d-44bf-f339-c4bc576e7ee0"
      },
      "execution_count": 237,
      "outputs": [
        {
          "output_type": "execute_result",
          "data": {
            "text/plain": [
              "LogisticRegression()"
            ]
          },
          "metadata": {},
          "execution_count": 237
        }
      ]
    },
    {
      "cell_type": "code",
      "source": [
        "p2_s2_model = LogisticRegression()\n",
        "p2_s2_model.fit(p2_s2_train_x, p2_s2_train_y)   #Prob 2/Scenario 2: fitting the s2 model given X and y values"
      ],
      "metadata": {
        "colab": {
          "base_uri": "https://localhost:8080/"
        },
        "id": "tT_EAUI9IRJj",
        "outputId": "13e27fa7-c158-4bf9-eb69-2947c9d1fb0e"
      },
      "execution_count": 236,
      "outputs": [
        {
          "output_type": "execute_result",
          "data": {
            "text/plain": [
              "LogisticRegression()"
            ]
          },
          "metadata": {},
          "execution_count": 236
        }
      ]
    },
    {
      "cell_type": "code",
      "source": [
        "model.intercept_                     #Prob 1/pre-set: intercept b0"
      ],
      "metadata": {
        "colab": {
          "base_uri": "https://localhost:8080/"
        },
        "id": "TCZekmBBQVX0",
        "outputId": "851b58b7-5c41-4556-ce46-fae4a10258a4"
      },
      "execution_count": 235,
      "outputs": [
        {
          "output_type": "execute_result",
          "data": {
            "text/plain": [
              "array([-6.45807868])"
            ]
          },
          "metadata": {},
          "execution_count": 235
        }
      ]
    },
    {
      "cell_type": "code",
      "source": [
        "model.coef_                          #Prob 1/pre-set: coefficient b1"
      ],
      "metadata": {
        "colab": {
          "base_uri": "https://localhost:8080/"
        },
        "id": "hu_Erv1fQnO1",
        "outputId": "c2975fd6-3fdc-42eb-8040-4b0a23fa3109"
      },
      "execution_count": 234,
      "outputs": [
        {
          "output_type": "execute_result",
          "data": {
            "text/plain": [
              "array([[0.61056755]])"
            ]
          },
          "metadata": {},
          "execution_count": 234
        }
      ]
    },
    {
      "cell_type": "code",
      "source": [
        "model_i.intercept_                    #Prob 1/model i: intercept b0"
      ],
      "metadata": {
        "colab": {
          "base_uri": "https://localhost:8080/"
        },
        "id": "RX9z6l_peOFw",
        "outputId": "d10ee885-e00d-4b70-c013-fe4d2f227735"
      },
      "execution_count": 233,
      "outputs": [
        {
          "output_type": "execute_result",
          "data": {
            "text/plain": [
              "array([-5.91905825])"
            ]
          },
          "metadata": {},
          "execution_count": 233
        }
      ]
    },
    {
      "cell_type": "code",
      "source": [
        "model_i.coef_                         #Prob 1/model i: coefficient b1"
      ],
      "metadata": {
        "colab": {
          "base_uri": "https://localhost:8080/"
        },
        "id": "igEuv4WSek2b",
        "outputId": "8e1e8772-53c8-4a8c-a02c-0fa9bc092ef0"
      },
      "execution_count": 232,
      "outputs": [
        {
          "output_type": "execute_result",
          "data": {
            "text/plain": [
              "array([[0.58121048]])"
            ]
          },
          "metadata": {},
          "execution_count": 232
        }
      ]
    },
    {
      "cell_type": "code",
      "source": [
        "model_ii.intercept_                   #Prob 1/model ii: intercept b0"
      ],
      "metadata": {
        "colab": {
          "base_uri": "https://localhost:8080/"
        },
        "id": "HSdT01VzBZNe",
        "outputId": "1b0419f9-4d29-421b-86c4-cf706cc9a463"
      },
      "execution_count": 231,
      "outputs": [
        {
          "output_type": "execute_result",
          "data": {
            "text/plain": [
              "array([-6.65878175])"
            ]
          },
          "metadata": {},
          "execution_count": 231
        }
      ]
    },
    {
      "cell_type": "code",
      "source": [
        "model_ii.coef_                        #Prob 1/model ii: coefficient b1"
      ],
      "metadata": {
        "colab": {
          "base_uri": "https://localhost:8080/"
        },
        "id": "UJk9IShYB4se",
        "outputId": "0527d3ce-81ae-4fa5-f0b6-a3d0579fe9cd"
      },
      "execution_count": 230,
      "outputs": [
        {
          "output_type": "execute_result",
          "data": {
            "text/plain": [
              "array([[0.62484651]])"
            ]
          },
          "metadata": {},
          "execution_count": 230
        }
      ]
    },
    {
      "cell_type": "code",
      "source": [
        "model_iii.intercept_                  #Prob 1/model iii: intercept b0"
      ],
      "metadata": {
        "colab": {
          "base_uri": "https://localhost:8080/"
        },
        "id": "0_s1BZfxGNqw",
        "outputId": "beac9082-e6cc-4cae-bee8-9e9eb9c50906"
      },
      "execution_count": 229,
      "outputs": [
        {
          "output_type": "execute_result",
          "data": {
            "text/plain": [
              "array([-6.04317591])"
            ]
          },
          "metadata": {},
          "execution_count": 229
        }
      ]
    },
    {
      "cell_type": "code",
      "source": [
        "model_iii.coef_                       #Prob 1/model iii: coefficient b1"
      ],
      "metadata": {
        "colab": {
          "base_uri": "https://localhost:8080/"
        },
        "id": "wO-byUemGRvd",
        "outputId": "e2e9d6e9-8663-4d21-e921-953e9cf4423e"
      },
      "execution_count": 228,
      "outputs": [
        {
          "output_type": "execute_result",
          "data": {
            "text/plain": [
              "array([[0.58155367]])"
            ]
          },
          "metadata": {},
          "execution_count": 228
        }
      ]
    },
    {
      "cell_type": "code",
      "source": [
        "p2_s1_model.intercept_                 #Prob 2/Scenario 1: intercept b0"
      ],
      "metadata": {
        "colab": {
          "base_uri": "https://localhost:8080/"
        },
        "id": "VVcUwxUllVwb",
        "outputId": "5739f82d-9ac8-4fcc-bb56-4d6cc747f544"
      },
      "execution_count": 227,
      "outputs": [
        {
          "output_type": "execute_result",
          "data": {
            "text/plain": [
              "array([-8.01264405])"
            ]
          },
          "metadata": {},
          "execution_count": 227
        }
      ]
    },
    {
      "cell_type": "code",
      "source": [
        "coefs = p2_s1_model.coef_\n",
        "print(coefs[0][0], coefs[0][1])        #Prob 2/Scenario 1: coefficients b1 & b2"
      ],
      "metadata": {
        "colab": {
          "base_uri": "https://localhost:8080/"
        },
        "id": "Z31D-X3lmDEB",
        "outputId": "a2b0a339-9ab2-4235-b6a1-ff8637345646"
      },
      "execution_count": 226,
      "outputs": [
        {
          "output_type": "stream",
          "name": "stdout",
          "text": [
            "0.0011546928870639873 2.7718721244896285\n"
          ]
        }
      ]
    },
    {
      "cell_type": "code",
      "source": [
        "p2_s2_model.intercept_                 #Prob 2/Scenario 2: intercept b0"
      ],
      "metadata": {
        "colab": {
          "base_uri": "https://localhost:8080/"
        },
        "id": "UUcHeih-GcDN",
        "outputId": "7b695d24-8652-4926-c6e0-dfbb0fcd3bc6"
      },
      "execution_count": 225,
      "outputs": [
        {
          "output_type": "execute_result",
          "data": {
            "text/plain": [
              "array([-7.78640044])"
            ]
          },
          "metadata": {},
          "execution_count": 225
        }
      ]
    },
    {
      "cell_type": "code",
      "source": [
        "p2_coefs = p2_s2_model.coef_\n",
        "print(p2_coefs[0][0], p2_coefs[0][1])  #Prob 2/Scenario 2: coefficients b1 & b2"
      ],
      "metadata": {
        "colab": {
          "base_uri": "https://localhost:8080/"
        },
        "id": "OzkwGu3NJtaF",
        "outputId": "1a29c6e5-7403-4766-d823-26984b0ffcc6"
      },
      "execution_count": 224,
      "outputs": [
        {
          "output_type": "stream",
          "name": "stdout",
          "text": [
            "0.0011260778957990212 2.633133962426356\n"
          ]
        }
      ]
    },
    {
      "cell_type": "code",
      "execution_count": 223,
      "metadata": {
        "id": "O5XlI_MrLlLH"
      },
      "outputs": [],
      "source": [
        "from sklearn.metrics import confusion_matrix"
      ]
    },
    {
      "cell_type": "code",
      "source": [
        "cm = confusion_matrix(test_y, model.predict(test_x))       #Prob 1/pre-set: confusion matrix for 75% training, 25% testing\n",
        "print(cm)                                                  #Accuracy: 80%\n",
        "print(len(test_x))\n",
        "accuracy = (cm[0][0] + cm[1][1]) / len(test_x)\n",
        "print(accuracy)"
      ],
      "metadata": {
        "colab": {
          "base_uri": "https://localhost:8080/"
        },
        "id": "-xoD8l75Sk5G",
        "outputId": "3906ae6b-8fa6-4d43-b12e-ec2833b58baf"
      },
      "execution_count": 222,
      "outputs": [
        {
          "output_type": "stream",
          "name": "stdout",
          "text": [
            "[[21  1]\n",
            " [ 5  3]]\n",
            "30\n",
            "0.8\n"
          ]
        }
      ]
    },
    {
      "cell_type": "code",
      "source": [
        "cm = confusion_matrix(test_i_y, model_i.predict(test_i_x)) #Prob 1: model i confusion matrix for 50% training, 50% testing\n",
        "print(cm)                                                  #Accuracy:85%\n",
        "print(len(test_i_x))\n",
        "accuracy = (cm[0][0] + cm[1][1]) / len(test_i_x)\n",
        "print(accuracy)"
      ],
      "metadata": {
        "colab": {
          "base_uri": "https://localhost:8080/"
        },
        "id": "ukU29CyuetBy",
        "outputId": "13d7e8b3-67c5-41c2-9293-d2a8c8d9cc42"
      },
      "execution_count": 221,
      "outputs": [
        {
          "output_type": "stream",
          "name": "stdout",
          "text": [
            "[[45  4]\n",
            " [ 5  6]]\n",
            "60\n",
            "0.85\n"
          ]
        }
      ]
    },
    {
      "cell_type": "code",
      "source": [
        "cm = confusion_matrix(test_ii_y, model_ii.predict(test_ii_x)) #Prob 1: model ii confusion matrix for 80% training, 20% testing\n",
        "print(cm)                                                     #Accuracy:75%\n",
        "print(len(test_ii_x))\n",
        "accuracy = (cm[0][0] + cm[1][1]) / len(test_ii_x)\n",
        "print(accuracy)"
      ],
      "metadata": {
        "colab": {
          "base_uri": "https://localhost:8080/"
        },
        "id": "_xVVRQYsCEFZ",
        "outputId": "9d160901-95ca-4c14-9a7e-4ada779af297"
      },
      "execution_count": 220,
      "outputs": [
        {
          "output_type": "stream",
          "name": "stdout",
          "text": [
            "[[16  1]\n",
            " [ 5  2]]\n",
            "24\n",
            "0.75\n"
          ]
        }
      ]
    },
    {
      "cell_type": "code",
      "source": [
        "cm = confusion_matrix(test_iii_y, model_iii.predict(test_iii_x)) #Prob 1: model iii confusion matrix for 90% training, 10% testing\n",
        "print(cm)                                                        #Accuracy:83.33%\n",
        "print(len(test_iii_x))\n",
        "accuracy = (cm[0][0] + cm[1][1]) / len(test_iii_x)\n",
        "print(accuracy)"
      ],
      "metadata": {
        "colab": {
          "base_uri": "https://localhost:8080/"
        },
        "id": "3bkZiGL-GWYb",
        "outputId": "d046f49c-e316-4638-e91c-8eacf76a6290"
      },
      "execution_count": 219,
      "outputs": [
        {
          "output_type": "stream",
          "name": "stdout",
          "text": [
            "[[9 1]\n",
            " [1 1]]\n",
            "12\n",
            "0.8333333333333334\n"
          ]
        }
      ]
    },
    {
      "cell_type": "code",
      "source": [
        "cm = confusion_matrix(p2_s1_test_y, p2_s1_model.predict(p2_s1_test_x)) #Prob 2: scenario 1 confusion matrix for 85% training, 15% testing\n",
        "print(cm)                                                              #Accuracy:92%\n",
        "print(len(p2_s1_test_x))\n",
        "accuracy = (cm[0][0] + cm[1][1]) / len(p2_s1_test_x)\n",
        "print(accuracy)"
      ],
      "metadata": {
        "colab": {
          "base_uri": "https://localhost:8080/"
        },
        "id": "iAkgxbX50Bjb",
        "outputId": "1444ef77-b129-4570-c8ea-8345cc71367a"
      },
      "execution_count": 218,
      "outputs": [
        {
          "output_type": "stream",
          "name": "stdout",
          "text": [
            "[[118   3]\n",
            " [  9  20]]\n",
            "150\n",
            "0.92\n"
          ]
        }
      ]
    },
    {
      "cell_type": "code",
      "source": [
        "cm = confusion_matrix(p2_s2_test_y, p2_s2_model.predict(p2_s2_test_x)) #Prob 2: scenario 2 confusion matrix for 79% training, 21% testing\n",
        "print(cm)                                                              #Accuracy:91.9%\n",
        "print(len(p2_s2_test_x))\n",
        "accuracy = (cm[0][0] + cm[1][1]) / len(p2_s2_test_x)\n",
        "print(accuracy)\n",
        "# Test% Accuracy\n",
        "# 0.4 => 92%\n",
        "# 0.3 => 92%\n",
        "# 0.25 => 92%\n",
        "# 0.22 => 91.8%\n",
        "# 0.21 => 91.9%\n",
        "# 0.2 => 91.5%\n",
        "# 0.1 => 91%"
      ],
      "metadata": {
        "colab": {
          "base_uri": "https://localhost:8080/"
        },
        "id": "3KoI_pVoMep5",
        "outputId": "01b1c1ee-abc0-4f10-c250-0ffd571ec6e4"
      },
      "execution_count": 217,
      "outputs": [
        {
          "output_type": "stream",
          "name": "stdout",
          "text": [
            "[[167   4]\n",
            " [ 13  26]]\n",
            "210\n",
            "0.919047619047619\n"
          ]
        }
      ]
    },
    {
      "cell_type": "code",
      "execution_count": 216,
      "metadata": {
        "id": "UukcQX5zLlLI",
        "colab": {
          "base_uri": "https://localhost:8080/",
          "height": 483
        },
        "outputId": "8b66efba-293e-4b34-91b5-e4880f966781"
      },
      "outputs": [
        {
          "output_type": "display_data",
          "data": {
            "text/plain": [
              "<Figure size 576x576 with 1 Axes>"
            ],
            "image/png": "[encoded data removed]"
          },
          "metadata": {
            "needs_background": "light"
          }
        }
      ],
      "source": [
        "cm = confusion_matrix(test_y, model.predict(test_x))\n",
        "\n",
        "fig, ax = plt.subplots(figsize=(8, 8))\n",
        "ax.imshow(cm)\n",
        "ax.grid(False)\n",
        "ax.xaxis.set(ticks=(0, 1), ticklabels=('Predicted 0s', 'Predicted 1s'))\n",
        "ax.yaxis.set(ticks=(0, 1), ticklabels=('Actual 0s', 'Actual 1s'))\n",
        "ax.set_ylim(1.5, -0.5)\n",
        "for i in range(2):\n",
        "    for j in range(2):\n",
        "        ax.text(j, i, cm[i, j], ha='center', va='center', color='red')\n",
        "plt.show()                                                             # Prob 1_Answer b)_plot for 75% training, 25% testing\n",
        "                                                                       # Misclassified: 6\n",
        "                                                                       # Predicted win but not awarded: 1 (upper right)\n",
        "                                                                       # Not predicted but awarded: 5 (lower left) \n",
        "                                                                       # Accuracy: 80%"
      ]
    },
    {
      "cell_type": "code",
      "source": [
        "cm = confusion_matrix(test_i_y, model_i.predict(test_i_x))\n",
        "\n",
        "fig, ax = plt.subplots(figsize=(8, 8))\n",
        "ax.imshow(cm)\n",
        "ax.grid(False)\n",
        "ax.xaxis.set(ticks=(0, 1), ticklabels=('Predicted 0s', 'Predicted 1s'))\n",
        "ax.yaxis.set(ticks=(0, 1), ticklabels=('Actual 0s', 'Actual 1s'))\n",
        "ax.set_ylim(1.5, -0.5)\n",
        "for i in range(2):\n",
        "    for j in range(2):\n",
        "        ax.text(j, i, cm[i, j], ha='center', va='center', color='red')\n",
        "plt.show()                                                             # Prob 1: model i) plot for 50% training, 50% testing\n",
        "                                                                       # Misclassified: 9\n",
        "                                                                       # Predicted win but not awarded: 4 (upper right)\n",
        "                                                                       # Not predicted but awarded: 5 (lower left) \n",
        "                                                                       # Accuracy:85%"
      ],
      "metadata": {
        "id": "CPQkhDwFe4Nr",
        "colab": {
          "base_uri": "https://localhost:8080/",
          "height": 483
        },
        "outputId": "11b494f6-3dba-4ace-ff49-ce60370d1ad1"
      },
      "execution_count": 215,
      "outputs": [
        {
          "output_type": "display_data",
          "data": {
            "text/plain": [
              "<Figure size 576x576 with 1 Axes>"
            ],
            "image/png": "[encoded data removed]"
          },
          "metadata": {
            "needs_background": "light"
          }
        }
      ]
    },
    {
      "cell_type": "code",
      "execution_count": 214,
      "metadata": {
        "id": "pL3p8Q_CLlLI",
        "colab": {
          "base_uri": "https://localhost:8080/",
          "height": 483
        },
        "outputId": "f9555466-2f89-43bb-b159-c3c036357c32"
      },
      "outputs": [
        {
          "output_type": "display_data",
          "data": {
            "text/plain": [
              "<Figure size 576x576 with 1 Axes>"
            ],
            "image/png": "[encoded data removed]"
          },
          "metadata": {
            "needs_background": "light"
          }
        }
      ],
      "source": [
        "cm = confusion_matrix(test_ii_y, model_ii.predict(test_ii_x))\n",
        "\n",
        "fig, ax = plt.subplots(figsize=(8, 8))\n",
        "ax.imshow(cm)\n",
        "ax.grid(False)\n",
        "ax.xaxis.set(ticks=(0, 1), ticklabels=('Predicted 0s', 'Predicted 1s'))\n",
        "ax.yaxis.set(ticks=(0, 1), ticklabels=('Actual 0s', 'Actual 1s'))\n",
        "ax.set_ylim(1.5, -0.5)\n",
        "for i in range(2):\n",
        "    for j in range(2):\n",
        "        ax.text(j, i, cm[i, j], ha='center', va='center', color='red')\n",
        "plt.show()                                                            # Prob 1: model ii) plot for 80% training, 20% testing\n",
        "                                                                      # Misclassified: 6\n",
        "                                                                      # Predicted win but not awarded: 1 (upper right)\n",
        "                                                                      # Not predicted but awarded: 5 (lower left) \n",
        "                                                                      # Accuracy:75%"
      ]
    },
    {
      "cell_type": "code",
      "source": [
        "cm = confusion_matrix(test_iii_y, model_iii.predict(test_iii_x))\n",
        "\n",
        "fig, ax = plt.subplots(figsize=(8, 8))\n",
        "ax.imshow(cm)\n",
        "ax.grid(False)\n",
        "ax.xaxis.set(ticks=(0, 1), ticklabels=('Predicted 0s', 'Predicted 1s'))\n",
        "ax.yaxis.set(ticks=(0, 1), ticklabels=('Actual 0s', 'Actual 1s'))\n",
        "ax.set_ylim(1.5, -0.5)\n",
        "for i in range(2):\n",
        "    for j in range(2):\n",
        "        ax.text(j, i, cm[i, j], ha='center', va='center', color='red')\n",
        "plt.show()                                                            # Prob 1: model iii) plot for 90% training, 10% testing\n",
        "                                                                      # Misclassified: 2\n",
        "                                                                      # Predicted win but not awarded: 1 (upper right)\n",
        "                                                                      # Not predicted but awarded: 1 (lower left)\n",
        "                                                                      # Accuracy:83.33%"
      ],
      "metadata": {
        "id": "3rkgkSkfGgZr",
        "colab": {
          "base_uri": "https://localhost:8080/",
          "height": 483
        },
        "outputId": "92630163-5746-454b-94c0-830a3eaa5a15"
      },
      "execution_count": 213,
      "outputs": [
        {
          "output_type": "display_data",
          "data": {
            "text/plain": [
              "<Figure size 576x576 with 1 Axes>"
            ],
            "image/png": "[encoded data removed]"
          },
          "metadata": {
            "needs_background": "light"
          }
        }
      ]
    },
    {
      "cell_type": "code",
      "source": [
        "cm = confusion_matrix(p2_s1_test_y, p2_s1_model.predict(p2_s1_test_x))\n",
        "\n",
        "fig, ax = plt.subplots(figsize=(8, 8))\n",
        "ax.imshow(cm)\n",
        "ax.grid(False)\n",
        "ax.xaxis.set(ticks=(0, 1), ticklabels=('Predicted 0s', 'Predicted 1s'))\n",
        "ax.yaxis.set(ticks=(0, 1), ticklabels=('Actual 0s', 'Actual 1s'))\n",
        "ax.set_ylim(1.5, -0.5)\n",
        "for i in range(2):\n",
        "    for j in range(2):\n",
        "        ax.text(j, i, cm[i, j], ha='center', va='center', color='red')\n",
        "plt.show()                                                            # Prob 2/model_p2_s1 plot for 85% training, 15% testing\n",
        "                                                                      # Misclassified: 12\n",
        "                                                                      # Predicted win but not awarded: 3 (upper right)\n",
        "                                                                      # Not predicted but awarded: 9 (lower left)\n",
        "                                                                      # Accuracy: 92%\n",
        "                                                                      # Prob 2: accuracy for s1 model is slightly higher than s2 "
      ],
      "metadata": {
        "colab": {
          "base_uri": "https://localhost:8080/",
          "height": 483
        },
        "id": "n3aI-1jPSbMr",
        "outputId": "4bb58a18-f199-44ad-beff-01bbb4922cbe"
      },
      "execution_count": 212,
      "outputs": [
        {
          "output_type": "display_data",
          "data": {
            "text/plain": [
              "<Figure size 576x576 with 1 Axes>"
            ],
            "image/png": "[encoded data removed]"
          },
          "metadata": {
            "needs_background": "light"
          }
        }
      ]
    },
    {
      "cell_type": "code",
      "source": [
        "cm = confusion_matrix(p2_s2_test_y, p2_s2_model.predict(p2_s2_test_x))\n",
        "\n",
        "fig, ax = plt.subplots(figsize=(8, 8))\n",
        "ax.imshow(cm)\n",
        "ax.grid(False)\n",
        "ax.xaxis.set(ticks=(0, 1), ticklabels=('Predicted 0s', 'Predicted 1s'))\n",
        "ax.yaxis.set(ticks=(0, 1), ticklabels=('Actual 0s', 'Actual 1s'))\n",
        "ax.set_ylim(1.5, -0.5)\n",
        "for i in range(2):\n",
        "    for j in range(2):\n",
        "        ax.text(j, i, cm[i, j], ha='center', va='center', color='red')\n",
        "plt.show()                                                            # Prob 2/model_p2_s2 plot for 79% training, 21% testing\n",
        "                                                                      # Misclassified: 17\n",
        "                                                                      # Predicted win but not awarded: 4 (upper right)\n",
        "                                                                      # Not predicted but awarded: 13 (lower left)\n",
        "                                                                      # Accuracy: 91.9%"
      ],
      "metadata": {
        "colab": {
          "base_uri": "https://localhost:8080/",
          "height": 483
        },
        "id": "6qqrwNnfUcTk",
        "outputId": "d399ed1e-7eb4-466c-b252-de64fba5b604"
      },
      "execution_count": 211,
      "outputs": [
        {
          "output_type": "display_data",
          "data": {
            "text/plain": [
              "<Figure size 576x576 with 1 Axes>"
            ],
            "image/png": "[encoded data removed]"
          },
          "metadata": {
            "needs_background": "light"
          }
        }
      ]
    }
  ],
  "metadata": {
    "kernelspec": {
      "display_name": "Python 3",
      "language": "python",
      "name": "python3"
    },
    "language_info": {
      "codemirror_mode": {
        "name": "ipython",
        "version": 3
      },
      "file_extension": ".py",
      "mimetype": "text/x-python",
      "name": "python",
      "nbconvert_exporter": "python",
      "pygments_lexer": "ipython3",
      "version": "3.7.6"
    },
    "colab": {
      "provenance": [],
      "collapsed_sections": []
    }
  },
  "nbformat": 4,
  "nbformat_minor": 0
}